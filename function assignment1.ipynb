{
 "cells": [
  {
   "cell_type": "code",
   "execution_count": 1,
   "id": "e8dbd6d8",
   "metadata": {},
   "outputs": [],
   "source": [
    "def subfields():\n",
    "    List=[\"sub-fields in Ai are;\",\"machine learing\",\"Neural Networks\",\"vision\",\"robotics\",\"speech processing\",\"natural language processing\"]\n",
    "    for i in List:\n",
    "        print(i)"
   ]
  },
  {
   "cell_type": "code",
   "execution_count": 2,
   "id": "ed01e4e9",
   "metadata": {},
   "outputs": [
    {
     "name": "stdout",
     "output_type": "stream",
     "text": [
      "sub-fields in Ai are;\n",
      "machine learing\n",
      "Neural Networks\n",
      "vision\n",
      "robotics\n",
      "speech processing\n",
      "natural language processing\n"
     ]
    }
   ],
   "source": [
    "subfields()"
   ]
  },
  {
   "cell_type": "code",
   "execution_count": 3,
   "id": "0a4d79ec",
   "metadata": {},
   "outputs": [],
   "source": [
    "def oddeven():\n",
    "    i = int(input(\"Enter any number = \"))\n",
    "    if i%2 == 0:\n",
    "        print(\"Number is even\")\n",
    "    else:\n",
    "        print(\"Number is even\")"
   ]
  },
  {
   "cell_type": "code",
   "execution_count": 4,
   "id": "11c26b78",
   "metadata": {},
   "outputs": [
    {
     "name": "stdout",
     "output_type": "stream",
     "text": [
      "Enter any number = 2223456\n",
      "Number is even\n"
     ]
    }
   ],
   "source": [
    "oddeven()"
   ]
  },
  {
   "cell_type": "code",
   "execution_count": 7,
   "id": "51034bdb",
   "metadata": {},
   "outputs": [],
   "source": [
    "def marriage():\n",
    "    gender= input(\"enter gender:\")\n",
    "    if gender == \"male\" or \"Male\":\n",
    "        Age = int(input(\"Enter any age = \"))\n",
    "        if Age >=21:\n",
    "            print(\"eligible for marriage\")\n",
    "        else:\n",
    "            print(\"not eligible\")\n",
    "    elif gender == \"female\"or \"Female\":\n",
    "        Age = int(input(\"Enter any age = \"))\n",
    "        if Age >=18:\n",
    "            print(\"eligible for marriage\")\n",
    "        else:\n",
    "            print(\"not eligible\")\n",
    "    else:\n",
    "        print(\"give correct input\")"
   ]
  },
  {
   "cell_type": "code",
   "execution_count": 9,
   "id": "6088da68",
   "metadata": {},
   "outputs": [
    {
     "name": "stdout",
     "output_type": "stream",
     "text": [
      "enter gender:Female\n",
      "Enter any age = 12\n",
      "not eligible\n"
     ]
    }
   ],
   "source": [
    "marriage()"
   ]
  },
  {
   "cell_type": "code",
   "execution_count": 16,
   "id": "fbc0951c",
   "metadata": {},
   "outputs": [],
   "source": [
    "def percentage():\n",
    "    s1 = int(input(\"subject1 = \"))\n",
    "    s2 = int(input(\"subject2 = \"))\n",
    "    s3 = int(input(\"subject3 = \"))\n",
    "    s4 = int(input(\"subject4 = \"))\n",
    "    s5 = int(input(\"subject5 = \"))\n",
    "    total=s1+s2+s3+s4+s5\n",
    "    print(\"total:\",total)\n",
    "    percentage= total/5\n",
    "    print(\"percentage\",percentage)\n"
   ]
  },
  {
   "cell_type": "code",
   "execution_count": 17,
   "id": "f254785a",
   "metadata": {},
   "outputs": [
    {
     "name": "stdout",
     "output_type": "stream",
     "text": [
      "subject1 = 80\n",
      "subject2 = 90\n",
      "subject3 = 90\n",
      "subject4 = 90\n",
      "subject5 = 89\n",
      "total: 439\n",
      "percentage 87.8\n"
     ]
    }
   ],
   "source": [
    "percentage()"
   ]
  },
  {
   "cell_type": "code",
   "execution_count": 22,
   "id": "6f303908",
   "metadata": {},
   "outputs": [],
   "source": [
    "def triangle():\n",
    "    h = int(input(\"height = \"))\n",
    "    b= int(input(\"breadth = \"))\n",
    "    print(\"Area formula: (height*breath)/2\")\n",
    "    print(\"Area of Triangle:\",(h*b)/2)\n",
    "    h1 = int(input(\"height1 = \"))\n",
    "    h2 = int(input(\"height2 = \"))\n",
    "    b= int(input(\"breadth = \"))\n",
    "    print(\"perimeter formula: height1+height2+breath\")\n",
    "    print(\"perimeter of Triangle:\",h1+h2+b)\n",
    "    "
   ]
  },
  {
   "cell_type": "code",
   "execution_count": 23,
   "id": "48055685",
   "metadata": {},
   "outputs": [
    {
     "name": "stdout",
     "output_type": "stream",
     "text": [
      "height = 32\n",
      "breadth = 34\n",
      "Area formula: (height*breath)/2\n",
      "Area of Triangle: 544.0\n",
      "height1 = 2\n",
      "height2 = 4\n",
      "breadth = 4\n",
      "perimeter formula: height1+height2+breath\n",
      "perimeter of Triangle: 10\n"
     ]
    }
   ],
   "source": [
    "triangle()\n"
   ]
  },
  {
   "cell_type": "code",
   "execution_count": null,
   "id": "61a5eaea",
   "metadata": {},
   "outputs": [],
   "source": []
  }
 ],
 "metadata": {
  "kernelspec": {
   "display_name": "Python 3 (ipykernel)",
   "language": "python",
   "name": "python3"
  },
  "language_info": {
   "codemirror_mode": {
    "name": "ipython",
    "version": 3
   },
   "file_extension": ".py",
   "mimetype": "text/x-python",
   "name": "python",
   "nbconvert_exporter": "python",
   "pygments_lexer": "ipython3",
   "version": "3.9.16"
  }
 },
 "nbformat": 4,
 "nbformat_minor": 5
}
