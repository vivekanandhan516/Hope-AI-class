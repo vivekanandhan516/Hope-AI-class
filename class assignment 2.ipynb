{
 "cells": [
  {
   "cell_type": "code",
   "execution_count": 1,
   "id": "79d58861",
   "metadata": {},
   "outputs": [],
   "source": [
    "from Assignment import Assignment"
   ]
  },
  {
   "cell_type": "code",
   "execution_count": 2,
   "id": "46376bfb",
   "metadata": {},
   "outputs": [
    {
     "name": "stdout",
     "output_type": "stream",
     "text": [
      "sub-fields in Ai are;\n",
      "machine learing\n",
      "Neural Networks\n",
      "vision\n",
      "robotics\n",
      "speech processing\n",
      "natural language processing\n"
     ]
    }
   ],
   "source": [
    "Assignment.subfields()"
   ]
  },
  {
   "cell_type": "code",
   "execution_count": 7,
   "id": "3c7c93d1",
   "metadata": {},
   "outputs": [
    {
     "name": "stdout",
     "output_type": "stream",
     "text": [
      "Enter any number = 4\n",
      "Number is even\n"
     ]
    }
   ],
   "source": [
    "Assignment.oddeven()"
   ]
  },
  {
   "cell_type": "code",
   "execution_count": 8,
   "id": "3e4e9ef2",
   "metadata": {},
   "outputs": [
    {
     "name": "stdout",
     "output_type": "stream",
     "text": [
      "enter gender:female\n",
      "Enter any age = 11\n",
      "not eligible\n"
     ]
    }
   ],
   "source": [
    "Assignment. marriage()\n"
   ]
  },
  {
   "cell_type": "code",
   "execution_count": 9,
   "id": "a571c78e",
   "metadata": {},
   "outputs": [
    {
     "name": "stdout",
     "output_type": "stream",
     "text": [
      "subject1 = 90\n",
      "subject2 = 90\n",
      "subject3 = 90\n",
      "subject4 = 90\n",
      "subject5 = 90\n",
      "total: 450\n",
      "percentage 90.0\n"
     ]
    }
   ],
   "source": [
    "Assignment.percentage()"
   ]
  },
  {
   "cell_type": "code",
   "execution_count": 6,
   "id": "44749a80",
   "metadata": {},
   "outputs": [
    {
     "name": "stdout",
     "output_type": "stream",
     "text": [
      "height = 3\n",
      "breadth = 3\n",
      "Area formula: (height*breath)/2\n",
      "Area of Triangle: 4.5\n",
      "height1 = 3\n",
      "height2 = 3\n",
      "breadth = 3\n",
      "perimeter formula: height1+height2+breath\n",
      "perimeter of Triangle: 9\n"
     ]
    }
   ],
   "source": [
    "Assignment.triangle()"
   ]
  },
  {
   "cell_type": "code",
   "execution_count": null,
   "id": "376cb587",
   "metadata": {},
   "outputs": [],
   "source": []
  }
 ],
 "metadata": {
  "kernelspec": {
   "display_name": "Python 3 (ipykernel)",
   "language": "python",
   "name": "python3"
  },
  "language_info": {
   "codemirror_mode": {
    "name": "ipython",
    "version": 3
   },
   "file_extension": ".py",
   "mimetype": "text/x-python",
   "name": "python",
   "nbconvert_exporter": "python",
   "pygments_lexer": "ipython3",
   "version": "3.9.16"
  }
 },
 "nbformat": 4,
 "nbformat_minor": 5
}
