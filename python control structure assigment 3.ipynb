{
 "cells": [
  {
   "cell_type": "code",
   "execution_count": 2,
   "id": "3e8f3cfb",
   "metadata": {},
   "outputs": [
    {
     "name": "stdout",
     "output_type": "stream",
     "text": [
      "Enter value = 10\n",
      "correct\n"
     ]
    }
   ],
   "source": [
    "i = int(input(\"Enter value = \"))\n",
    "if i ==10:\n",
    "    print(\"correct\")\n",
    "else:\n",
    "    print(\"in correct\")"
   ]
  },
  {
   "cell_type": "code",
   "execution_count": 5,
   "id": "053f3862",
   "metadata": {},
   "outputs": [
    {
     "name": "stdout",
     "output_type": "stream",
     "text": [
      "Enter the password = dhdbj\n",
      "Your password is incorrect\n"
     ]
    }
   ],
   "source": [
    "p=input(\"Enter the password = \")\n",
    "if p == \"HOPE@123\":\n",
    "    print(\"Your password is correct\")\n",
    "else:\n",
    "    print(\"Your password is incorrect\")"
   ]
  },
  {
   "cell_type": "code",
   "execution_count": 10,
   "id": "7def1caa",
   "metadata": {},
   "outputs": [
    {
     "name": "stdout",
     "output_type": "stream",
     "text": [
      "Enter value = 20\n",
      "Adult\n"
     ]
    }
   ],
   "source": [
    "i = int(input(\"Enter value = \"))\n",
    "if i <= 18:\n",
    "    print(\"children\")\n",
    "elif i<= 30:\n",
    "    print(\"Adult\")\n",
    "elif i <= 50:\n",
    "    print(\"Citizen\")\n",
    "else:\n",
    "    print(\"Senior Citizen\")"
   ]
  },
  {
   "cell_type": "code",
   "execution_count": 3,
   "id": "e9b3ecc9",
   "metadata": {},
   "outputs": [
    {
     "name": "stdout",
     "output_type": "stream",
     "text": [
      "Enter any number = 77\n",
      "No is positive\n"
     ]
    }
   ],
   "source": [
    "i = int(input(\"Enter any number = \"))\n",
    "if i > 0:\n",
    "    print(\"Number is positive\")\n",
    "elif i< 0:\n",
    "    print(\"Number is Negative\")\n",
    "else:\n",
    "    print(\"Zero is neither positive nor negative\")"
   ]
  },
  {
   "cell_type": "code",
   "execution_count": 5,
   "id": "df4f54a8",
   "metadata": {},
   "outputs": [
    {
     "name": "stdout",
     "output_type": "stream",
     "text": [
      "Enter value = 15\n",
      "Number is Divisible by 5\n"
     ]
    }
   ],
   "source": [
    "i = int(input(\"Enter value = \"))\n",
    "if i %5==0:\n",
    "    print(\"Number is Divisible by 5\")\n",
    "else:\n",
    "    print(\"Number is not Divisible by 5\")"
   ]
  },
  {
   "cell_type": "code",
   "execution_count": null,
   "id": "802d8beb",
   "metadata": {},
   "outputs": [],
   "source": []
  }
 ],
 "metadata": {
  "kernelspec": {
   "display_name": "Python 3 (ipykernel)",
   "language": "python",
   "name": "python3"
  },
  "language_info": {
   "codemirror_mode": {
    "name": "ipython",
    "version": 3
   },
   "file_extension": ".py",
   "mimetype": "text/x-python",
   "name": "python",
   "nbconvert_exporter": "python",
   "pygments_lexer": "ipython3",
   "version": "3.9.16"
  }
 },
 "nbformat": 4,
 "nbformat_minor": 5
}
