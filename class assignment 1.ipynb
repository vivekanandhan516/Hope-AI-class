{
 "cells": [
  {
   "cell_type": "code",
   "execution_count": 1,
   "id": "6d00b5ef",
   "metadata": {},
   "outputs": [],
   "source": [
    "class SubfieldInAi:\n",
    "    def subfields():\n",
    "        List=[\"sub-fields in Ai are;\",\"machine learing\",\"Neural Networks\",\"vision\",\"robotics\",\"speech processing\",\"natural language processing\"]\n",
    "        for i in List:\n",
    "            print(i)"
   ]
  },
  {
   "cell_type": "code",
   "execution_count": 2,
   "id": "98122833",
   "metadata": {},
   "outputs": [
    {
     "name": "stdout",
     "output_type": "stream",
     "text": [
      "sub-fields in Ai are;\n",
      "machine learing\n",
      "Neural Networks\n",
      "vision\n",
      "robotics\n",
      "speech processing\n",
      "natural language processing\n"
     ]
    }
   ],
   "source": [
    "SubfieldInAi.subfields()"
   ]
  },
  {
   "cell_type": "code",
   "execution_count": 3,
   "id": "3fdda229",
   "metadata": {},
   "outputs": [],
   "source": [
    "class oddeven:\n",
    "    def oddeven():\n",
    "        i = int(input(\"Enter any number = \"))\n",
    "        if i%2 == 0:\n",
    "            print(\"Number is even\")\n",
    "        else:\n",
    "            print(\"Number is even\")"
   ]
  },
  {
   "cell_type": "code",
   "execution_count": 4,
   "id": "2f003d19",
   "metadata": {},
   "outputs": [
    {
     "name": "stdout",
     "output_type": "stream",
     "text": [
      "Enter any number = 678090\n",
      "Number is even\n"
     ]
    }
   ],
   "source": [
    "oddeven.oddeven()\n"
   ]
  },
  {
   "cell_type": "code",
   "execution_count": 5,
   "id": "8c02540c",
   "metadata": {},
   "outputs": [],
   "source": [
    "class Elegiblityformarriage:\n",
    "    def marriage():\n",
    "        gender= input(\"enter gender:\")\n",
    "        if gender == \"male\" or \"Male\":\n",
    "            Age = int(input(\"Enter any age = \"))\n",
    "            if Age >=21:\n",
    "                print(\"eligible for marriage\")\n",
    "            else:\n",
    "                print(\"not eligible\")\n",
    "        elif gender == \"female\"or \"Female\":\n",
    "            Age = int(input(\"Enter any age = \"))\n",
    "            if Age >=18:\n",
    "                print(\"eligible for marriage\")\n",
    "            else:\n",
    "                print(\"not eligible\")\n",
    "        else:\n",
    "            print(\"give correct input\")"
   ]
  },
  {
   "cell_type": "code",
   "execution_count": 6,
   "id": "52f281ad",
   "metadata": {},
   "outputs": [
    {
     "name": "stdout",
     "output_type": "stream",
     "text": [
      "enter gender:male\n",
      "Enter any age = 70\n",
      "eligible for marriage\n"
     ]
    }
   ],
   "source": [
    "Elegiblityformarriage. marriage()\n"
   ]
  },
  {
   "cell_type": "code",
   "execution_count": 7,
   "id": "d5db623c",
   "metadata": {},
   "outputs": [],
   "source": [
    "class FindPercent:\n",
    "    def percentage():\n",
    "        s1 = int(input(\"subject1 = \"))\n",
    "        s2 = int(input(\"subject2 = \"))\n",
    "        s3 = int(input(\"subject3 = \"))\n",
    "        s4 = int(input(\"subject4 = \"))\n",
    "        s5 = int(input(\"subject5 = \"))\n",
    "        total=s1+s2+s3+s4+s5\n",
    "        print(\"total:\",total)\n",
    "        percentage= total/5\n",
    "        print(\"percentage\",percentage)"
   ]
  },
  {
   "cell_type": "code",
   "execution_count": 8,
   "id": "8ea975e7",
   "metadata": {},
   "outputs": [
    {
     "name": "stdout",
     "output_type": "stream",
     "text": [
      "subject1 = 45\n",
      "subject2 = 67\n",
      "subject3 = 89\n",
      "subject4 = 90\n",
      "subject5 = 67\n",
      "total: 358\n",
      "percentage 71.6\n"
     ]
    }
   ],
   "source": [
    "FindPercent.percentage()\n"
   ]
  },
  {
   "cell_type": "code",
   "execution_count": 9,
   "id": "8efa58b6",
   "metadata": {},
   "outputs": [],
   "source": [
    "class triangle:\n",
    "    def triangle():\n",
    "        h = int(input(\"height = \"))\n",
    "        b= int(input(\"breadth = \"))\n",
    "        print(\"Area formula: (height*breath)/2\")\n",
    "        print(\"Area of Triangle:\",(h*b)/2)\n",
    "        h1 = int(input(\"height1 = \"))\n",
    "        h2 = int(input(\"height2 = \"))\n",
    "        b= int(input(\"breadth = \"))\n",
    "        print(\"perimeter formula: height1+height2+breath\")\n",
    "        print(\"perimeter of Triangle:\",h1+h2+b)"
   ]
  },
  {
   "cell_type": "code",
   "execution_count": 10,
   "id": "15e30d32",
   "metadata": {},
   "outputs": [
    {
     "name": "stdout",
     "output_type": "stream",
     "text": [
      "height = 56\n",
      "breadth = 77\n",
      "Area formula: (height*breath)/2\n",
      "Area of Triangle: 2156.0\n",
      "height1 = 5\n",
      "height2 = 6\n",
      "breadth = 7\n",
      "perimeter formula: height1+height2+breath\n",
      "perimeter of Triangle: 18\n"
     ]
    }
   ],
   "source": [
    "triangle.triangle()"
   ]
  },
  {
   "cell_type": "code",
   "execution_count": null,
   "id": "b8a384a1",
   "metadata": {},
   "outputs": [],
   "source": []
  }
 ],
 "metadata": {
  "kernelspec": {
   "display_name": "Python 3 (ipykernel)",
   "language": "python",
   "name": "python3"
  },
  "language_info": {
   "codemirror_mode": {
    "name": "ipython",
    "version": 3
   },
   "file_extension": ".py",
   "mimetype": "text/x-python",
   "name": "python",
   "nbconvert_exporter": "python",
   "pygments_lexer": "ipython3",
   "version": "3.9.16"
  }
 },
 "nbformat": 4,
 "nbformat_minor": 5
}
