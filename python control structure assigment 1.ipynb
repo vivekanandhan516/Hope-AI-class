{
 "cells": [
  {
   "cell_type": "code",
   "execution_count": null,
   "id": "f9e62761",
   "metadata": {},
   "outputs": [],
   "source": [
    "print(\"Welcome to Assignment-1\")"
   ]
  },
  {
   "cell_type": "code",
   "execution_count": null,
   "id": "71f966bc",
   "metadata": {},
   "outputs": [],
   "source": [
    "Num1=10\n",
    "Num2=30\n",
    "print('Num1=',Num1)\n",
    "print('Num2=',Num2)\n",
    "print(\"Add=\",Num1+Num2)"
   ]
  },
  {
   "cell_type": "code",
   "execution_count": 2,
   "id": "5c6b0316",
   "metadata": {},
   "outputs": [
    {
     "name": "stdout",
     "output_type": "stream",
     "text": [
      "Enter Weight28\n",
      "over Weight\n"
     ]
    }
   ],
   "source": [
    "weight= int(input(\"Enter Weight\"))\n",
    "if weight < 18.5:\n",
    "    print(\"Under Weight\")\n",
    "elif weight < 24.9:\n",
    "    print(\"Normal\")\n",
    "elif weight < 29.9:\n",
    "    print(\"over Weight\")\n",
    "elif weight < 34.9:\n",
    "    print(\"obesity class1\")\n",
    "elif weight < 39.9:\n",
    "    print(\"obesity class II\")\n",
    "else:\n",
    "    print(\"Extreme Obesity\")"
   ]
  },
  {
   "cell_type": "code",
   "execution_count": null,
   "id": "e5ad6b05",
   "metadata": {},
   "outputs": [],
   "source": []
  },
  {
   "cell_type": "code",
   "execution_count": null,
   "id": "3af58f2e",
   "metadata": {},
   "outputs": [],
   "source": []
  },
  {
   "cell_type": "code",
   "execution_count": null,
   "id": "16c68114",
   "metadata": {},
   "outputs": [],
   "source": []
  }
 ],
 "metadata": {
  "kernelspec": {
   "display_name": "Python 3 (ipykernel)",
   "language": "python",
   "name": "python3"
  },
  "language_info": {
   "codemirror_mode": {
    "name": "ipython",
    "version": 3
   },
   "file_extension": ".py",
   "mimetype": "text/x-python",
   "name": "python",
   "nbconvert_exporter": "python",
   "pygments_lexer": "ipython3",
   "version": "3.9.16"
  }
 },
 "nbformat": 4,
 "nbformat_minor": 5
}
